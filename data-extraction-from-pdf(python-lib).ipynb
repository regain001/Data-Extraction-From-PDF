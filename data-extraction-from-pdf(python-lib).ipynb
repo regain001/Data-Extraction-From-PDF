{
  "nbformat": 4,
  "nbformat_minor": 0,
  "metadata": {
    "colab": {
      "name": "python pdf data extraction.ipynb",
      "provenance": [],
      "collapsed_sections": [
        "2WImYf0DN06L",
        "L34ey4eSNtPr",
        "rt7AqIdXiO1C"
      ],
      "mount_file_id": "15BU0ILHmV3jI57IUG1UaU6i2ROlA3zPT",
      "authorship_tag": "ABX9TyMirrY5C8Vlh5o+nLsLdnyh",
      "include_colab_link": true
    },
    "kernelspec": {
      "name": "python3",
      "display_name": "Python 3"
    }
  },
  "cells": [
    {
      "cell_type": "markdown",
      "metadata": {
        "id": "view-in-github",
        "colab_type": "text"
      },
      "source": [
        "<a href=\"https://colab.research.google.com/github/regain001/Data-Extraction-From-PDF/blob/master/data-extraction-from-pdf(python-lib).ipynb\" target=\"_parent\"><img src=\"https://colab.research.google.com/assets/colab-badge.svg\" alt=\"Open In Colab\"/></a>"
      ]
    },
    {
      "cell_type": "markdown",
      "metadata": {
        "id": "rtiXeXeoKYkn",
        "colab_type": "text"
      },
      "source": [
        "# **Extract pdf data by using python**\n",
        "\n"
      ]
    },
    {
      "cell_type": "code",
      "metadata": {
        "id": "0ShuL6apDRY0",
        "colab_type": "code",
        "colab": {}
      },
      "source": [
        "!pip install PyPDF2\n",
        "!pip install tika\n",
        "!pip install py4j\n",
        "!pip install tabula-py"
      ],
      "execution_count": 0,
      "outputs": []
    },
    {
      "cell_type": "code",
      "metadata": {
        "id": "r80SUj9NGApJ",
        "colab_type": "code",
        "colab": {}
      },
      "source": [
        "basePath = '/content/drive/My Drive/NazTech/bank pdf files/'"
      ],
      "execution_count": 0,
      "outputs": []
    },
    {
      "cell_type": "markdown",
      "metadata": {
        "id": "2WImYf0DN06L",
        "colab_type": "text"
      },
      "source": [
        "### Using PyPDF2"
      ]
    },
    {
      "cell_type": "code",
      "metadata": {
        "id": "Zdb4HjS0DC3G",
        "colab_type": "code",
        "outputId": "a8788f3e-c236-4668-b175-be9003c7919b",
        "colab": {
          "base_uri": "https://localhost:8080/",
          "height": 70
        }
      },
      "source": [
        "import PyPDF2\n",
        "from google.colab import drive\n",
        "\n",
        "pdfFileObj = open(basePath+'ABSABank.pdf', 'rb')\n",
        "\n",
        "pdfReader = PyPDF2.PdfFileReader(pdfFileObj)\n",
        "print(pdfReader.numPages)\n",
        "\n",
        "pageObj = pdfReader.getPage(0)\n",
        "print(pageObj.extractText())\n",
        "\n",
        "\n",
        "## Comment : need to regex after getting the texts"
      ],
      "execution_count": 0,
      "outputs": [
        {
          "output_type": "stream",
          "text": [
            "9\n",
            "Transaction History (2020-04-28 16:05:03)SOUTHEAST EXCHANGE COMPANY SOUTH AFRIC (PTY) LTDABSA9 DOLLY RATHEBE ROAD4095449786FORDSBURGClient Account2092  Current balanceR 852.90Available Balance as atR 852.90Uncleared ChequesR 0.00 Statement for Period 2020-04-20 - 2020-04-28 Date:Transaction DescriptionAmountBalanceBalance Brought Forward51,372.902020-04-20CARDLESS CASH DEP   CLEARWATER(     21,55 ) DEPOSIT NO : 102367 CONTACT : 08485496275,130.0056,502.902020-04-20CARDLESS CASH DEP   CLEARWATER(     21,55 ) DEPOSIT NO : 102369 CONTACT : 08485496275,130.0061,632.902020-04-20CARDLESS CASH DEP   CLEARWATER(     21,55 ) DEPOSIT NO : 1028283 CONTACT : 08485496275,130.0066,762.902020-04-20CARDLESS CASH DEP   CLEARWATER(     21,55 ) DEPOSIT NO : 1028021 CONTACT : 08485496275,130.0071,892.902020-04-20CARDLESS CASH DEP   EDENBURG 1(     21,55 ) DEPOSIT NO : 1028596 CONTACT : 07470441635,130.0077,022.902020-04-20CARDLESS CASH DEP   EDENBURG 1(     21,55 ) DEPOSIT NO : 1021293 CONTACT : 07470441635,130.0082,152.902020-04-20CASH DEP BRANCH     HARTSWATER(     33,86 ) DEP NO : 1022395,130.0087,282.902020-04-20CASH DEP BRANCH     HARTSWATER(     33,86 ) DEP NO : 1022415,130.0092,412.90\n"
          ],
          "name": "stdout"
        }
      ]
    },
    {
      "cell_type": "markdown",
      "metadata": {
        "id": "L34ey4eSNtPr",
        "colab_type": "text"
      },
      "source": [
        "### Using Tica"
      ]
    },
    {
      "cell_type": "code",
      "metadata": {
        "id": "sTGKzNV9NrCH",
        "colab_type": "code",
        "outputId": "5583b0c8-9873-486a-a1d0-546230bc51e8",
        "colab": {
          "base_uri": "https://localhost:8080/",
          "height": 70
        }
      },
      "source": [
        "from tika import parser\n",
        "\n",
        "raw = parser.from_file(basePath+'ABSABank.pdf')\n",
        "raw = str(raw)\n",
        "\n",
        "safe_text = raw.encode('utf-8', errors='ignore')\n",
        "\n",
        "safe_text = str(safe_text).replace(\"\\n\", \"\").replace(\"\\\\\", \"\")\n",
        "print('--- safe text ---' )\n",
        "print( safe_text )\n",
        "\n",
        "\n",
        "## Comment : need to regex after getting the texts \n",
        "## & need to parse from this variable -- raw['content'] "
      ],
      "execution_count": 0,
      "outputs": [
        {
          "output_type": "stream",
          "text": [
            "--- safe text ---\n",
            "b'{'metadata': {'Content-Type': 'application/pdf', 'Creation-Date': '2020-04-28T14:05:03Z', 'Last-Modified': '2020-04-28T14:05:03Z', 'Last-Save-Date': '2020-04-28T14:05:03Z', 'X-Parsed-By': ['org.apache.tika.parser.DefaultParser', 'org.apache.tika.parser.pdf.PDFParser'], 'X-TIKA:content_handler': 'ToTextContentHandler', 'X-TIKA:embedded_depth': '0', 'X-TIKA:parse_time_millis': '258', 'access_permission:assemble_document': 'true', 'access_permission:can_modify': 'true', 'access_permission:can_print': 'true', 'access_permission:can_print_degraded': 'true', 'access_permission:extract_content': 'true', 'access_permission:extract_for_accessibility': 'true', 'access_permission:fill_in_form': 'true', 'access_permission:modify_annotations': 'true', 'created': '2020-04-28T14:05:03Z', 'date': '2020-04-28T14:05:03Z', 'dc:format': 'application/pdf; version=1.5', 'dcterms:created': '2020-04-28T14:05:03Z', 'dcterms:modified': '2020-04-28T14:05:03Z', 'meta:creation-date': '2020-04-28T14:05:03Z', 'meta:save-date': '2020-04-28T14:05:03Z', 'modified': '2020-04-28T14:05:03Z', 'pdf:PDFVersion': '1.5', 'pdf:charsPerPage': ['1219', '1525', '1513', '1538', '1441', '1534', '1652', '1667', '507'], 'pdf:docinfo:created': '2020-04-28T14:05:03Z', 'pdf:docinfo:creator_tool': 'BIRT Report Engine 2.6.2 using iText version unknown.', 'pdf:docinfo:modified': '2020-04-28T14:05:03Z', 'pdf:docinfo:producer': 'iText 2.1.7 by 1T3XT', 'pdf:encrypted': 'false', 'pdf:hasMarkedContent': 'false', 'pdf:hasXFA': 'false', 'pdf:hasXMP': 'false', 'pdf:unmappedUnicodeCharsPerPage': ['0', '0', '0', '0', '0', '0', '0', '0', '0'], 'producer': 'iText 2.1.7 by 1T3XT', 'resourceName': \"b'ABSABank.pdf'\", 'xmp:CreatorTool': 'BIRT Report Engine 2.6.2 using iText version unknown.', 'xmpTPg:NPages': '9'}, 'content': \"nnnnnnnnnnnnnnnnnnnnnnnnnnnnnnnnnnnnnnnn2020-04-28  04:05:03 Page 1 of 9  nnTransaction History (2020-04-28 16:05:03)nnSOUTHEAST EXCHANGE COMPANY SOUTH AFRIC (PTY) nLTDnnABSAnn9 DOLLY RATHEBE ROAD 4095449786nnFORDSBURG Client Accountnn2092  nn nCurrent balance R 852.90nnAvailable Balance as at R 852.90nnUncleared Cheques R 0.00nn nnStatement for Period 2020-04-20 - 2020-04-28n nnDate: Transaction Description Amount BalancenBalance Brought Forward 51,372.90n2020-04-20 CARDLESS CASH DEP   nnCLEARWATER(     21,55 ) DEPOSIT nNO : 102367 CONTACT : n0848549627nn5,130.00 56,502.90nn2020-04-20 CARDLESS CASH DEP   nCLEARWATER(     21,55 ) DEPOSIT nNO : 102369 CONTACT : n0848549627nn5,130.00 61,632.90nn2020-04-20 CARDLESS CASH DEP   nCLEARWATER(     21,55 ) DEPOSIT nNO : 1028283 CONTACT : n0848549627nn5,130.00 66,762.90nn2020-04-20 CARDLESS CASH DEP   nCLEARWATER(     21,55 ) DEPOSIT nNO : 1028021 CONTACT : n0848549627nn5,130.00 71,892.90nn2020-04-20 CARDLESS CASH DEP   nEDENBURG 1(     21,55 ) DEPOSIT nNO : 1028596 CONTACT : n0747044163nn5,130.00 77,022.90nn2020-04-20 CARDLESS CASH DEP   nEDENBURG 1(     21,55 ) DEPOSIT nNO : 1021293 CONTACT : n0747044163nn5,130.00 82,152.90nn2020-04-20 CASH DEP BRANCH     nHARTSWATER(     33,86 ) DEP NO : n102239nn5,130.00 87,282.90nn2020-04-20 CASH DEP BRANCH     nHARTSWATER(     33,86 ) DEP NO : n102241nn5,130.00 92,412.90nnnn2020-04-28  04:05:03 Page 2 of 9  nnDate: Transaction Description Amount Balancen2020-04-20 CASH DEP BRANCH     nnHARTSWATER(     33,86 ) DEP NO : n1024372nn5,130.00 97,542.90nn2020-04-20 CASH DEP BRANCH     nHARTSWATER(     33,86 ) DEP NO : n1026219nn5,130.00 102,672.90nn2020-04-20 CASH DEP BRANCH     KAKAMAS   n(     33,86 ) DEP NO : 1025405nn5,130.00 107,802.90nn2020-04-20 CASH DEP BRANCH     nHARTSWATER(     33,86 ) DEP NO : n102171nn5,130.00 112,932.90nn2020-04-20 CASH DEP BRANCH     nHARTSWATER(     33,86 ) DEP NO : n102496nn5,130.00 118,062.90nn2020-04-20 CASH DEP BRANCH     nHARTSWATER(     33,86 ) DEP NO : n102251nn5,130.00 123,192.90nn2020-04-20 CASH DEP COR BRNCH  nKAKAMAS   (     33,86-) DEP NO : n1025405nn-5,130.00 118,062.90nn2020-04-20 CASH DEP BRANCH     nHARTSWATER(     33,86 ) DEP NO : n1028620nn5,130.00 123,192.90nn2020-04-20 CASH DEP BRANCH     KAKAMAS   n(     33,86 ) DEP NO : 1025404nn5,130.00 128,322.90nn2020-04-20 CASH DEP BRANCH     KAKAMAS   n(     33,86 ) DEP NO : 1027059nn5,130.00 133,452.90nn2020-04-20 CASH DEP BRANCH     nBETHLEHEM (     33,86 ) DEP NO : n1028221nn5,130.00 138,582.90nn2020-04-20 CASH DEP BRANCH     nBETHLEHEM (     33,86 ) DEP NO : n1022917nn5,130.00 143,712.90nn2020-04-20 CASH DEP BRANCH     nBETHLEHEM (     33,86 ) DEP NO : n1023506nn5,130.00 148,842.90nn2020-04-20 CASH DEP BRANCH     nBETHLEHEM (     33,86 ) DEP NO : n1028184nn5,130.00 153,972.90nn2020-04-20 CARDLESS CASH DEP   nMEYERTON 3(     21,55 ) DEPOSIT nNO : 1022375 CONTACT : n0641038782nn5,130.00 159,102.90nn2020-04-20 CARDLESS CASH DEP   nMEYERTON 3(     21,55 ) DEPOSIT nNO : 1022449 CONTACT : n0641038782nn5,130.00 164,232.90nnnn2020-04-28  04:05:03 Page 3 of 9  nnDate: Transaction Description Amount Balancen2020-04-20 CARDLESS CASH DEP   nnMEYERTON 3(     21,55 ) DEPOSIT nNO : 1023442 CONTACT : n0641038782nn5,130.00 169,362.90nn2020-04-20 CARDLESS CASH DEP   nMEYERTON 3(     21,55 ) DEPOSIT nNO : 1023443 CONTACT : n0641038782nn5,130.00 174,492.90nn2020-04-20 IBANK TRANSFER 93-5150-9532 nABSA BANK Money marketnn-174,000.00 492.90nn2020-04-21 CARDLESS CASH DEP   nROODEPOORT(     21,50 ) nDEPOSIT NO : 1022012 CONTACT : n0621215181nn5,120.00 5,612.90nn2020-04-21 CARDLESS CASH DEP   nROODEPOORT(     21,50 ) nDEPOSIT NO : 1021649 CONTACT : n0641630310nn5,120.00 10,732.90nn2020-04-21 CARDLESS CASH DEP   nMOGWASE BR(     21,55 ) DEPOSIT nNO : 1027976 CONTACT : n0641373242nn5,130.00 15,862.90nn2020-04-21 CARDLESS CASH DEP   nMEYERTON 3(     21,55 ) DEPOSIT nNO : 1028227 CONTACT : n0844332235nn5,130.00 20,992.90nn2020-04-21 CASH DEP BRANCH     nMORULENG  (     33,86 ) DEP NO : n1024230nn5,130.00 26,122.90nn2020-04-21 CASH DEP BRANCH     nHARTSWATER(     33,66 ) DEP NO : n1021045nn5,100.00 31,222.90nn2020-04-21 CASH DEP BRANCH     nHARTSWATER(     33,66 ) DEP NO : n1024416nn5,100.00 36,322.90nn2020-04-21 CASH DEP BRANCH     nHARTSWATER(     33,66 ) DEP NO : n1024793nn5,100.00 41,422.90nn2020-04-21 CASH DEP BRANCH     nHARTSWATER(     33,86 ) DEP NO : n1028620nn5,130.00 46,552.90nn2020-04-21 CASH DEP BRANCH     nHARTSWATER(     33,86 ) DEP NO : n102251nn5,130.00 51,682.90nn2020-04-21 CASH DEP BRANCH     nHARTSWATER(     33,86 ) DEP NO : n102496nn5,130.00 56,812.90nn2020-04-21 CASH DEP BRANCH     nHARTSWATER(     33,86 ) DEP NO : n102171nn5,130.00 61,942.90nnnn2020-04-28  04:05:03 Page 4 of 9  nnDate: Transaction Description Amount Balancen2020-04-21 CASH DEP BRANCH     nnHARTSWATER(     33,86 ) DEP NO : n1026219nn5,130.00 67,072.90nn2020-04-21 CASH DEP BRANCH     nHARTSWATER(     33,86 ) DEP NO : n1024372nn5,130.00 72,202.90nn2020-04-21 CASH DEP BRANCH     nHARTSWATER(     33,86 ) DEP NO : n102241nn5,130.00 77,332.90nn2020-04-21 CASH DEP BRANCH     nHARTSWATER(     33,86 ) DEP NO : n102239nn5,130.00 82,462.90nn2020-04-21 CASH DEP BRANCH     nPLUMSTEAD (     33,86 ) DEP NO : n102862nn5,130.00 87,592.90nn2020-04-21 CASH DEP BRANCH     nPLUMSTEAD (      6,60 ) DEP NO : n102346nn1,000.00 88,592.90nn2020-04-21 IBANK PAYMENT FROM ABSA nBANK 1031000260nn3,500.00 92,092.90nn2020-04-22 CASH DEP BRANCH     VANGATE   n(     33,79 ) DEP NO : 1031000312nn5,120.00 97,212.90nn2020-04-22 CASH DEP BRANCH     VANGATE   n(     33,79 ) DEP NO : 1031000315nn5,120.00 102,332.90nn2020-04-22 CASH DEP BRANCH     VANGATE   n(     30,36 ) DEP NO : 1031000316nn4,600.00 106,932.90nn2020-04-22 CASH DEP BRANCH     nHARTSWATER(     33,86 ) DEP NO : n1028620nn5,130.00 112,062.90nn2020-04-22 CASH DEP BRANCH     nHARTSWATER(     33,86 ) DEP NO : n102239nn5,130.00 117,192.90nn2020-04-22 CASH DEP BRANCH     nHARTSWATER(     33,86 ) DEP NO : n102241nn5,130.00 122,322.90nn2020-04-22 CASH DEP BRANCH     nHARTSWATER(     33,86 ) DEP NO : n1024372nn5,130.00 127,452.90nn2020-04-22 CASH DEP BRANCH     nHARTSWATER(     33,86 ) DEP NO : n1026219nn5,130.00 132,582.90nn2020-04-22 CASH DEP BRANCH     nHARTSWATER(     33,86 ) DEP NO : n102171nn5,130.00 137,712.90nn2020-04-22 CASH DEP BRANCH     nHARTSWATER(     33,86 ) DEP NO : n102496nn5,130.00 142,842.90nnnn2020-04-28  04:05:03 Page 5 of 9  nnDate: Transaction Description Amount Balancen2020-04-22 CASH DEP BRANCH     nnHARTSWATER(     33,86 ) DEP NO : n102251nn5,130.00 147,972.90nn2020-04-22 CASH DEP BRANCH     nMABOPANE  (     33,99 ) DEP NO : n1026080nn5,150.00 153,122.90nn2020-04-22 CARDLESS CASH DEP   nBETHLEHEM (     21,55 ) DEPOSIT nNO : 1028221 CONTACT : n0665646519nn5,130.00 158,252.90nn2020-04-23 IBANK TRANSFER 93-5150-9532 nABSA BANK Money marketnn-155,000.00 3,252.90nn2020-04-23 CARDLESS CASH DEP   nCLEARWATER(     21,55 ) DEPOSIT nNO : 102367 CONTACT : n0860030661nn5,130.00 8,382.90nn2020-04-23 CARDLESS CASH DEP   nCLEARWATER(     21,55 ) DEPOSIT nNO : 102369 CONTACT : n0860030661nn5,130.00 13,512.90nn2020-04-23 CARDLESS CASH DEP   nCLEARWATER(     21,55 ) DEPOSIT nNO : 1028021 CONTACT : n0680030661nn5,130.00 18,642.90nn2020-04-23 CARDLESS CASH DEP   nCLEARWATER(     21,55 ) DEPOSIT nNO : 1028045 CONTACT : n0680030661nn5,130.00 23,772.90nn2020-04-23 CARDLESS CASH DEP   nCLEARWATER(     21,55 ) DEPOSIT nNO : 1026957 CONTACT : n0680030661nn5,130.00 28,902.90nn2020-04-23 CARDLESS CASH DEP   nCLEARWATER(     21,55 ) DEPOSIT nNO : 1023743 CONTACT : n0680030661nn5,130.00 34,032.90nn2020-04-23 CARDLESS CASH DEP   nCLEARWATER(     21,55 ) DEPOSIT nNO : 1028019 CONTACT : n0680030661nn5,130.00 39,162.90nn2020-04-23 CARDLESS CASH DEP   nCLEARWATER(     21,55 ) DEPOSIT nNO : 10280A CONTACT : n0680030661nn5,130.00 44,292.90nn2020-04-23 CARDLESS CASH DEP   nCLEARWATER(     21,55 ) DEPOSIT nNO : 1028305 CONTACT : n0680030661nn5,130.00 49,422.90nnnn2020-04-28  04:05:03 Page 6 of 9  nnDate: Transaction Description Amount Balancen2020-04-23 CARDLESS CASH DEP   LENASIA nn4 (     16,17 ) DEPOSIT NO : 102765 nCONTACT : 0748681856nn3,850.00 53,272.90nn2020-04-23 CARDLESS CASH DEP   NIGEL 4   n(     21,50 ) DEPOSIT NO : 1022514 nCONTACT : 0651811303nn5,120.00 58,392.90nn2020-04-23 CARDLESS CASH DEP   nMEYERTON 2(     21,55 ) DEPOSIT nNO : 1028227 CONTACT : n0849759849nn5,130.00 63,522.90nn2020-04-23 CARDLESS CASH DEP   KWAGGA nPLA(     21,59 ) DEPOSIT NO : n1023469 CONTACT : 0846739374nn5,140.00 68,662.90nn2020-04-23 CARDLESS CASH DEP   P'N P nOTTE(     21,55 ) DEPOSIT NO : n1031000110 CONTACT : n0742644379nn5,130.00 73,792.90nn2020-04-23 CARDLESS CASH DEP   LENASIA n2 (     21,84 ) DEPOSIT NO : n1026445 CONTACT : 0749686315nn5,200.00 78,992.90nn2020-04-23 CARDLESS CASH DEP   LENASIA n2 (      9,66 ) DEPOSIT NO : 1023800 nCONTACT : 0749686315nn2,300.00 81,292.90nn2020-04-23 CARDLESS CASH DEP   P'N P nOTTE(     17,98 ) DEPOSIT NO : n1031000111 CONTACT : n0742644379nn4,280.00 85,572.90nn2020-04-23 CARDLESS CASH DEP   nMEYERTON 1(     20,79 ) DEPOSIT nNO : 1021153 CONTACT : n0628914016nn4,950.00 90,522.90nn2020-04-23 CARDLESS CASH DEP   P'N P nOTTE(      3,57 ) DEPOSIT NO : n1031000111 CONTACT : n0742644379nn850.00 91,372.90nn2020-04-23 CARDLESS CASH DEP   nHILLBROW 2(     21,55 ) DEPOSIT nNO : 1022324 CONTACT : n0747560969nn5,130.00 96,502.90nn2020-04-23 CARDLESS CASH DEP   nHILLBROW 2(     21,55 ) DEPOSIT nNO : 1023931 CONTACT : n0747560969nn5,130.00 101,632.90nn2020-04-23 CARDLESS CASH DEP   nHILLBROW 2(     21,55 ) DEPOSIT nNO : 1023933 CONTACT : n0747560969nn5,130.00 106,762.90nnnn2020-04-28  04:05:03 Page 7 of 9  nnDate: Transaction Description Amount Balancen2020-04-24 CARDLESS CASH DEP   nnWESTGATE S(     21,55 ) DEPOSIT nNO : 1022012 CONTACT : n0621215181nn5,130.00 111,892.90nn2020-04-24 CARDLESS CASH DEP   nWESTGATE S(     21,55 ) DEPOSIT nNO : 1021649 CONTACT : n0621215181nn5,130.00 117,022.90nn2020-04-24 CARDLESS CASH DEP   nWESTGATE S(     21,55 ) DEPOSIT nNO : 1027694 CONTACT : n0621215181nn5,130.00 122,152.90nn2020-04-24 CARDLESS CASH DEP   nWESTGATE S(     21,55 ) DEPOSIT nNO : 1021944 CONTACT : n0678532173nn5,130.00 127,282.90nn2020-04-24 CARDLESS CASH DEP   MORULA nVIE(     21,55 ) DEPOSIT NO : n1023985 CONTACT : 0847091865nn5,130.00 132,412.90nn2020-04-24 CARDLESS CASH DEP   MORULA nVIE(     21,55 ) DEPOSIT NO : n1021105 CONTACT : 0612063779nn5,130.00 137,542.90nn2020-04-24 CARDLESS CASH DEP   nWESTGATE S(     21,42 ) DEPOSIT nNO : 1028076 CONTACT : n0624028986nn5,100.00 142,642.90nn2020-04-24 CARDLESS CASH DEP   nWESTGATE S(     21,42 ) DEPOSIT nNO : 1024088 CONTACT : n0624028986nn5,100.00 147,742.90nn2020-04-24 IBANK TRANSFER 93-5150-9532 nABSA BANK Money marketnn-147,000.00 742.90nn2020-04-24 CASH DEP BRANCH     KWAGGA nPLA(     33,86 ) DEP NO : 1023174nn5,130.00 5,872.90nn2020-04-24 CARDLESS CASH DEP   nMATATIELE (     16,80 ) DEPOSIT nNO : 1023959 CONTACT : n0731687013nn4,000.00 9,872.90nn2020-04-24 CASH DEP BRANCH     KWAGGA nPLA(     33,86 ) DEP NO : 1024116nn5,130.00 15,002.90nn2020-04-24 CASH DEP BRANCH     KWAGGA nPLA(     33,86 ) DEP NO : 1025327nn5,130.00 20,132.90nn2020-04-25 CARDLESS CASH DEP   P'N P nOTTE(     21,55 ) DEPOSIT NO : n1031000110 CONTACT : n0742644379nn5,130.00 25,262.90nn2020-04-25 CARDLESS CASH DEP   P'N P nOTTE(     21,55 ) DEPOSIT NO : n1031000111 CONTACT : n0742644379nn5,130.00 30,392.90nnnn2020-04-28  04:05:03 Page 8 of 9  nnDate: Transaction Description Amount Balancen2020-04-25 CARDLESS CASH DEP   nnMEYERTON 3(      9,87 ) DEPOSIT nNO : 1028227 CONTACT : n0793385051nn2,350.00 32,742.90nn2020-04-25 CARDLESS CASH DEP   nMEYERTON 3(     21,55 ) DEPOSIT nNO : 1022449 CONTACT : n0793385051nn5,130.00 37,872.90nn2020-04-27 CARDLESS CASH DEP   nVEREENIGIN DEPOSIT NO : n1021586 CONTACT : 0619117510nn5,130.00 43,002.90nn2020-04-27 CARDLESS CASH DEP   nVEREENIGIN DEPOSIT NO : n1025942 CONTACT : 0619117510nn1,400.00 44,402.90nn2020-04-27 CARDLESS CASH DEP   nVEREENIGIN DEPOSIT NO : n1025942 CONTACT : 0619117510nn2,500.00 46,902.90nn2020-04-27 CARDLESS CASH DEP   nSPRINGBOK DEPOSIT NO : n1023645 CONTACT : 0846548355nn1,630.00 48,532.90nn2020-04-27 CARDLESS CASH DEP   KWAGGA nPLA DEPOSIT NO : 1024044 nCONTACT : 0745356806nn5,130.00 53,662.90nn2020-04-27 CARDLESS CASH DEP   nMEYERTON 3 DEPOSIT NO : n1022449 CONTACT : 0743252303nn5,130.00 58,792.90nn2020-04-28 CASH DEP BRANCH     LENASIA nDEP NO : 1027033nn5,130.00 63,922.90nn2020-04-28 CASH DEP BRANCH     LENASIA nDEP NO : 1027033nn5,130.00 69,052.90nn2020-04-28 CASH DEP BRANCH     nMORULENG DEP NO : 1024230nn5,130.00 74,182.90nn2020-04-28 CASH DEP BRANCH     nMORULENG DEP NO : 1024231nn5,130.00 79,312.90nn2020-04-28 CARDLESS CASH DEP   nHEIDELBERG DEPOSIT NO : n1022821 CONTACT : 0735964390nn5,050.00 84,362.90nn2020-04-28 CARDLESS CASH DEP   nHEIDELBERG DEPOSIT NO : n1022822 CONTACT : 0735964390nn5,100.00 89,462.90nn2020-04-28 CARDLESS CASH DEP   nHILLBROW 1 DEPOSIT NO : n1024210 CONTACT : 0740356648nn5,030.00 94,492.90nn2020-04-28 CARDLESS CASH DEP   nHILLBROW 1 DEPOSIT NO : n1022769 CONTACT : 0735773443nn5,130.00 99,622.90nn2020-04-28 CARDLESS CASH DEP   nHILLBROW 1 DEPOSIT NO : nmohammed CONTACT : 0740356648nn100.00 99,722.90nnnn2020-04-28  04:05:03 Page 9 of 9  nnDate: Transaction Description Amount Balancen2020-04-28 CARDLESS CASH DEP   nnMEYERTON 3 DEPOSIT NO : n1022449 CONTACT : 0743252303nn5,130.00 104,852.90nn2020-04-28 CASH DEP BRANCH     LENASIA nDEP NO : 102765nn5,000.00 109,852.90nn2020-04-28 IBANK TRANSFER 93-5150-9532 nABSA BANK Money Marketnn-109,000.00 852.90nn2020-04-28 IBANK TRANSFER 93-5150-9532 nABSA BANK Money Marketnn2,000,000.00 2,000,852.90nn2020-04-28 IBANK PAYMENT TO ABSA BANK nNEDNank Southeast Exnn-2,000,000.00 852.90nnBalance Carried Forward 852.90nnn\", 'status': 200}'\n"
          ],
          "name": "stdout"
        }
      ]
    },
    {
      "cell_type": "markdown",
      "metadata": {
        "id": "rt7AqIdXiO1C",
        "colab_type": "text"
      },
      "source": [
        "### Using py4j"
      ]
    },
    {
      "cell_type": "code",
      "metadata": {
        "id": "-EZ534QsgT9o",
        "colab_type": "code",
        "colab": {}
      },
      "source": [
        "from py4j.java_gateway import JavaGateway\n",
        "\n",
        "gw = JavaGateway()\n",
        "result = gw.entry_point.strip(r'E:\\NazTech\\OFFICE WORK\\statements\\ABSABank.pdf')\n",
        "\n",
        "# result is a dict of {\n",
        "#   'success': 'true' or 'false',\n",
        "#   'payload': pdf file content if 'success' is 'true'\n",
        "#   'error': error message if 'success' is 'false'\n",
        "# }\n",
        "\n",
        "print (result['payload'])\n",
        "\n",
        "\n",
        "## Comment : couldn't run  \n",
        "## & need to download a jar to see the results"
      ],
      "execution_count": 0,
      "outputs": []
    },
    {
      "cell_type": "markdown",
      "metadata": {
        "id": "IWQsxS2SuiQU",
        "colab_type": "text"
      },
      "source": [
        "### Using tabula with pandas"
      ]
    },
    {
      "cell_type": "code",
      "metadata": {
        "id": "_HmZMq4JirOw",
        "colab_type": "code",
        "outputId": "dbb39d6e-416c-463d-f535-74ba5b3db0da",
        "colab": {
          "base_uri": "https://localhost:8080/",
          "height": 370
        }
      },
      "source": [
        "import tabula\n",
        "import pandas as pd\n",
        "import re\n",
        "# df = tabula.read_pdf(basePath+'ABSABank.pdf', area=(210,0,250,400), pages=1)\n",
        "# df = tabula.read_pdf(path, pages = '1', )\n",
        "df = tabula.read_pdf(basePath+'ABSABank.pdf', area=(0,0,350,500), pages=1)\n",
        "\n",
        "print(df)"
      ],
      "execution_count": 0,
      "outputs": [
        {
          "output_type": "stream",
          "text": [
            "Got stderr: May 06, 2020 7:30:29 AM org.apache.pdfbox.pdmodel.font.PDType1Font <init>\n",
            "WARNING: Using fallback font LiberationSans for base font Symbol\n",
            "May 06, 2020 7:30:29 AM org.apache.pdfbox.pdmodel.font.PDType1Font <init>\n",
            "WARNING: Using fallback font LiberationSans for base font ZapfDingbats\n",
            "\n"
          ],
          "name": "stderr"
        },
        {
          "output_type": "stream",
          "text": [
            "[       Transaction History (2020-04-28 16:05:03)      Unnamed: 0 Unnamed: 1\n",
            "0   SOUTHEAST EXCHANGE COMPANY SOUTH AFRIC (PTY)            ABSA        NaN\n",
            "1                                            LTD             NaN        NaN\n",
            "2                           9 DOLLY RATHEBE ROAD      4095449786        NaN\n",
            "3                                      FORDSBURG  Client Account        NaN\n",
            "4                                           2092             NaN        NaN\n",
            "5                                            NaN             NaN        NaN\n",
            "6                                Current balance        R 852.90        NaN\n",
            "7                        Available Balance as at        R 852.90        NaN\n",
            "8                              Uncleared Cheques          R 0.00        NaN\n",
            "9                                            NaN             NaN        NaN\n",
            "10  Statement for Period 2020-04-20 - 2020-04-28             NaN        NaN\n",
            "11                                           NaN             NaN        NaN\n",
            "12                 Date: Transaction Description             NaN     Amount\n",
            "13                       Balance Brought Forward             NaN        NaN\n",
            "14                  2020-04-20 CARDLESS CASH DEP             NaN   5,130.00]\n"
          ],
          "name": "stdout"
        }
      ]
    },
    {
      "cell_type": "code",
      "metadata": {
        "id": "3RKFyTSktsvN",
        "colab_type": "code",
        "outputId": "69a14541-f7f2-4dd3-cc78-66aef7b0e2ff",
        "colab": {
          "base_uri": "https://localhost:8080/",
          "height": 67
        }
      },
      "source": [
        "# print(\"Bank Name   :\",df[0].values[0][1].replace(' ',''))\n",
        "\n",
        "curBal = df[0].values[6][1].replace('R ','')\n",
        "print(\"Current balance   :\", curBal)\n",
        "\n",
        "avaBal = df[0].values[7][1].replace('R ','')\n",
        "print(\"Available balance :\",avaBal)\n",
        "\n",
        "## But need to use regex after getting this string.\n",
        "date_range = df[0].values[10][0]\n",
        "date = re.search(\"(?<=Statement for Period \\d{4}-\\d{2}-\\d{2}( )-( ))\\d{4}-\\d{2}-\\d{2}\", date_range)\n",
        "\n",
        "print(\"Date : \"+str(date.group()))"
      ],
      "execution_count": 0,
      "outputs": [
        {
          "output_type": "stream",
          "text": [
            "Current balance   : 852.90\n",
            "Available balance : 852.90\n",
            "Date : 2020-04-28\n"
          ],
          "name": "stdout"
        }
      ]
    },
    {
      "cell_type": "code",
      "metadata": {
        "id": "q6zTQFrQv_W9",
        "colab_type": "code",
        "outputId": "25a1bee3-7d27-47b0-bb18-d5d930454791",
        "colab": {
          "base_uri": "https://localhost:8080/",
          "height": 138
        }
      },
      "source": [
        "# actual output after converting to json\n",
        "df = tabula.read_pdf(basePath+'ABSABank.pdf', area=(0,0,350,500), pages=1, output_format=\"json\")\n",
        "print(df)"
      ],
      "execution_count": 0,
      "outputs": [
        {
          "output_type": "stream",
          "text": [
            "Got stderr: May 06, 2020 7:26:27 AM org.apache.pdfbox.pdmodel.font.PDType1Font <init>\n",
            "WARNING: Using fallback font LiberationSans for base font Symbol\n",
            "May 06, 2020 7:26:28 AM org.apache.pdfbox.pdmodel.font.PDType1Font <init>\n",
            "WARNING: Using fallback font LiberationSans for base font ZapfDingbats\n",
            "\n"
          ],
          "name": "stderr"
        },
        {
          "output_type": "stream",
          "text": [
            "[{'extraction_method': 'stream', 'top': 0.0, 'left': 0.0, 'width': 500.0, 'height': 350.0, 'right': 500.0, 'bottom': 350.0, 'data': [[{'top': 95.72, 'left': 19.86, 'width': 236.75, 'height': 5.550000190734863, 'text': 'Transaction History (2020-04-28 16:05:03)'}, {'top': 0.0, 'left': 0.0, 'width': 0.0, 'height': 0.0, 'text': ''}, {'top': 0.0, 'left': 0.0, 'width': 0.0, 'height': 0.0, 'text': ''}], [{'top': 132.16, 'left': 19.8, 'width': 277.7900085449219, 'height': 4.630000114440918, 'text': 'SOUTHEAST EXCHANGE COMPANY SOUTH AFRIC (PTY)'}, {'top': 132.16, 'left': 305.3, 'width': 28.330015182495117, 'height': 4.630000114440918, 'text': 'ABSA'}, {'top': 0.0, 'left': 0.0, 'width': 0.0, 'height': 0.0, 'text': ''}], [{'top': 143.91, 'left': 19.8, 'width': 19.440000534057617, 'height': 4.630000114440918, 'text': 'LTD'}, {'top': 0.0, 'left': 0.0, 'width': 0.0, 'height': 0.0, 'text': ''}, {'top': 0.0, 'left': 0.0, 'width': 0.0, 'height': 0.0, 'text': ''}], [{'top': 158.66, 'left': 19.8, 'width': 124.19999694824219, 'height': 4.630000114440918, 'text': '9 DOLLY RATHEBE ROAD'}, {'top': 158.66, 'left': 305.3, 'width': 55.60000991821289, 'height': 4.630000114440918, 'text': '4095449786'}, {'top': 0.0, 'left': 0.0, 'width': 0.0, 'height': 0.0, 'text': ''}], [{'top': 173.66, 'left': 19.8, 'width': 65.27999877929688, 'height': 4.630000114440918, 'text': 'FORDSBURG'}, {'top': 173.66, 'left': 305.3, 'width': 64.47000122070312, 'height': 4.630000114440918, 'text': 'Client Account'}, {'top': 0.0, 'left': 0.0, 'width': 0.0, 'height': 0.0, 'text': ''}], [{'top': 188.66, 'left': 19.8, 'width': 23.477645874023438, 'height': 4.630000114440918, 'text': '2092'}, {'top': 0.0, 'left': 0.0, 'width': 0.0, 'height': 0.0, 'text': ''}, {'top': 0.0, 'left': 0.0, 'width': 0.0, 'height': 0.0, 'text': ''}], [{'top': 0.0, 'left': 0.0, 'width': 0.0, 'height': 0.0, 'text': ''}, {'top': 0.0, 'left': 0.0, 'width': 0.0, 'height': 0.0, 'text': ''}, {'top': 0.0, 'left': 0.0, 'width': 0.0, 'height': 0.0, 'text': ''}], [{'top': 219.16, 'left': 19.8, 'width': 72.46049499511719, 'height': 4.630000114440918, 'text': 'Current balance'}, {'top': 218.7, 'left': 305.27, 'width': 36.52001953125, 'height': 4.159999847412109, 'text': 'R 852.90'}, {'top': 0.0, 'left': 0.0, 'width': 0.0, 'height': 0.0, 'text': ''}], [{'top': 233.91, 'left': 19.8, 'width': 105.260498046875, 'height': 4.630000114440918, 'text': 'Available Balance as at'}, {'top': 233.45, 'left': 305.27, 'width': 36.52001953125, 'height': 4.159999847412109, 'text': 'R 852.90'}, {'top': 0.0, 'left': 0.0, 'width': 0.0, 'height': 0.0, 'text': ''}], [{'top': 249.41, 'left': 19.8, 'width': 89.69050598144531, 'height': 4.630000114440918, 'text': 'Uncleared Cheques'}, {'top': 248.95, 'left': 305.27, 'width': 26.510009765625, 'height': 4.159999847412109, 'text': 'R 0.00'}, {'top': 0.0, 'left': 0.0, 'width': 0.0, 'height': 0.0, 'text': ''}], [{'top': 0.0, 'left': 0.0, 'width': 0.0, 'height': 0.0, 'text': ''}, {'top': 0.0, 'left': 0.0, 'width': 0.0, 'height': 0.0, 'text': ''}, {'top': 0.0, 'left': 0.0, 'width': 0.0, 'height': 0.0, 'text': ''}], [{'top': 278.48, 'left': 19.8, 'width': 205.6599884033203, 'height': 4.630000114440918, 'text': 'Statement for Period 2020-04-20 - 2020-04-28'}, {'top': 0.0, 'left': 0.0, 'width': 0.0, 'height': 0.0, 'text': ''}, {'top': 0.0, 'left': 0.0, 'width': 0.0, 'height': 0.0, 'text': ''}], [{'top': 0.0, 'left': 0.0, 'width': 0.0, 'height': 0.0, 'text': ''}, {'top': 0.0, 'left': 0.0, 'width': 0.0, 'height': 0.0, 'text': ''}, {'top': 0.0, 'left': 0.0, 'width': 0.0, 'height': 0.0, 'text': ''}], [{'top': 308.47, 'left': 19.86, 'width': 248.9679718017578, 'height': 5.550000190734863, 'text': 'Date: Transaction Description'}, {'top': 0.0, 'left': 0.0, 'width': 0.0, 'height': 0.0, 'text': ''}, {'top': 308.47, 'left': 399.6, 'width': 45.329986572265625, 'height': 5.550000190734863, 'text': 'Amount'}], [{'top': 325.55, 'left': 19.8, 'width': 122.239990234375, 'height': 4.630000114440918, 'text': 'Balance Brought Forward'}, {'top': 0.0, 'left': 0.0, 'width': 0.0, 'height': 0.0, 'text': ''}, {'top': 0.0, 'left': 0.0, 'width': 0.0, 'height': 0.0, 'text': ''}], [{'top': 340.3, 'left': 19.8, 'width': 217.739990234375, 'height': 4.630000114440918, 'text': '2020-04-20 CARDLESS CASH DEP'}, {'top': 0.0, 'left': 0.0, 'width': 0.0, 'height': 0.0, 'text': ''}, {'top': 340.3, 'left': 405.94, 'width': 38.919986724853516, 'height': 4.630000114440918, 'text': '5,130.00'}]]}]\n"
          ],
          "name": "stdout"
        }
      ]
    },
    {
      "cell_type": "code",
      "metadata": {
        "id": "1Z9qPGci3SEu",
        "colab_type": "code",
        "outputId": "df339e60-ae50-4246-dc84-d0ef00b9d09d",
        "colab": {
          "base_uri": "https://localhost:8080/",
          "height": 34
        }
      },
      "source": [
        "# Or we can make a json\n",
        "\n",
        "import json\n",
        "\n",
        "dt = str(date.group())\n",
        "jsnData = {\n",
        "  'currentBalance': curBal,\n",
        "  'availableBalance': avaBal,\n",
        "  'date': dt\n",
        "}\n",
        "jsn = json.dumps(jsnData)\n",
        "print(jsn)"
      ],
      "execution_count": 0,
      "outputs": [
        {
          "output_type": "stream",
          "text": [
            "{\"currentBalance\": \"852.90\", \"availableBalance\": \"852.90\", \"date\": \"2020-04-28\"}\n"
          ],
          "name": "stdout"
        }
      ]
    },
    {
      "cell_type": "code",
      "metadata": {
        "id": "3WtsTQyk7Mfh",
        "colab_type": "code",
        "colab": {}
      },
      "source": [
        "## If the informations locate inside the header, then we can get it easily \n",
        "## without using regex. \n",
        "## There are many ways of getting data from pdf using python, but I dont know \n",
        "## if there is any better solution to extract data by open source library"
      ],
      "execution_count": 0,
      "outputs": []
    }
  ]
}